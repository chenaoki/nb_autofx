{
 "cells": [
  {
   "cell_type": "code",
   "execution_count": 1,
   "metadata": {},
   "outputs": [
    {
     "name": "stderr",
     "output_type": "stream",
     "text": [
      "Using TensorFlow backend.\n"
     ]
    }
   ],
   "source": [
    "from __future__ import division\n",
    "\n",
    "import argparse\n",
    "import os\n",
    "\n",
    "import matplotlib.animation as animation\n",
    "import matplotlib.pyplot as plt\n",
    "\n",
    "from env_fx import FXEnv\n",
    "from agent_lstmdqn import LSTMDQNAgent"
   ]
  },
  {
   "cell_type": "code",
   "execution_count": 2,
   "metadata": {},
   "outputs": [],
   "source": [
    "env = FXEnv(\n",
    "        '/mnt/Omer/Project/10.AdaptivePacing/dst/npy/USDJPY.npy',\n",
    "        spread=0.,\n",
    "        min_act_interval=4,\n",
    "        load_interval=1440*7)"
   ]
  },
  {
   "cell_type": "code",
   "execution_count": null,
   "metadata": {},
   "outputs": [],
   "source": [
    "agent = LSTMDQNAgent(env.enable_actions, env.name)\n",
    "agent.load_model('/mnt/Omer/Project/10.AdaptivePacing/dst/dqn_agent/models_month/env_fx.ckpt')"
   ]
  },
  {
   "cell_type": "code",
   "execution_count": 5,
   "metadata": {},
   "outputs": [],
   "source": [
    "env.reset()\n",
    "\n",
    "state_t_1, reward_t, terminal = env.observe()\n",
    "state_t = state_t_1\n",
    "\n",
    "terminal = False\n",
    "total = 0.\n",
    "log_total = []\n",
    "while not terminal:\n",
    "    action_t = agent.select_action(state_t, 0.0)\n",
    "    env.execute_action(action_t)\n",
    "\n",
    "    state_t_1, reward_t, terminal = env.observe()\n",
    "    state_t = state_t_1\n",
    "    total += reward_t\n",
    "    log_total.append(total)"
   ]
  },
  {
   "cell_type": "code",
   "execution_count": 6,
   "metadata": {},
   "outputs": [
    {
     "data": {
      "text/plain": [
       "[(118.19, 117.27, 'long', -0.9200000000000017, 64),\n",
       " (117.27, 115.87, 'short', 1.3999999999999915, 77),\n",
       " (115.87, 105.47, 'long', -10.400000000000006, 90),\n",
       " (105.47, 107.77, 'short', -2.299999999999997, 103),\n",
       " (107.77, 106.42, 'long', -1.3499999999999943, 116),\n",
       " (106.42, 103.88, 'short', 2.5400000000000063, 129),\n",
       " (103.88, 112.86, 'long', 8.980000000000004, 142),\n",
       " (112.86, 119.8, 'short', -6.939999999999998, 155),\n",
       " (119.8, 117.39, 'long', -2.4099999999999966, 168),\n",
       " (117.39, 116.27, 'short', 1.1200000000000045, 181),\n",
       " (116.27, 118.11, 'long', 1.8400000000000034, 194),\n",
       " (118.11, 119.85, 'short', -1.7399999999999949, 207),\n",
       " (119.85, 114.11, 'long', -5.739999999999995, 220),\n",
       " (114.11, 106.79, 'short', 7.319999999999993, 233),\n",
       " (106.79, 104.66, 'long', -2.1300000000000097, 246),\n",
       " (104.66, 103.2, 'short', 1.4599999999999937, 259),\n",
       " (103.2, 91.59, 'long', -11.61, 272),\n",
       " (91.59, 95.21, 'short', -3.6199999999999903, 285),\n",
       " (95.21, 90.18, 'long', -5.029999999999987, 298),\n",
       " (90.18, 90.68, 'short', -0.5, 311),\n",
       " (90.68, 88.87, 'long', -1.8100000000000023, 323),\n",
       " (88.87, 83.26, 'short', 5.609999999999999, 336),\n",
       " (83.26, 82.36, 'long', -0.9000000000000057, 349),\n",
       " (82.36, 78.42, 'short', 3.9399999999999977, 362),\n",
       " (78.42, 77.96, 'long', -0.46000000000000796, 375),\n",
       " (77.96, 81.08, 'short', -3.1200000000000045, 388),\n",
       " (81.08, 78.6, 'long', -2.480000000000004, 401),\n",
       " (78.6, 87.41, 'short', -8.810000000000002, 414),\n",
       " (87.41, 102.83, 'long', 15.420000000000002, 427),\n",
       " (102.83, 98.47, 'short', 4.359999999999999, 440),\n",
       " (98.47, 101.87, 'long', 3.4000000000000057, 453),\n",
       " (101.87, 101.96, 'short', -0.0899999999999892, 466),\n",
       " (101.96, 113.63, 'long', 11.670000000000002, 479),\n",
       " (113.63, 120.55, 'short', -6.920000000000002, 492),\n",
       " (120.55, 123.23, 'long', 2.680000000000007, 505),\n",
       " (123.23, 123.44, 'short', -0.20999999999999375, 518),\n",
       " (123.44, 109.45, 'long', -13.989999999999995, 531),\n",
       " (109.45, 100.25, 'short', 9.200000000000003, 544),\n",
       " (100.25, 116.54, 'long', 16.290000000000006, 557),\n",
       " (116.54, 114.02, 'short', 2.5200000000000102, 570),\n",
       " (114.02, 108.63, 'long', -5.390000000000001, 582),\n",
       " (108.63, 111.11, 'short', -2.480000000000004, 595),\n",
       " (111.11, 109.01, 'long', -2.0999999999999943, 608),\n",
       " (109.01, 113.88, 'short', -4.86999999999999, 621),\n",
       " (113.88, 110.53, 'long', -3.3499999999999943, 634)]"
      ]
     },
     "execution_count": 6,
     "metadata": {},
     "output_type": "execute_result"
    }
   ],
   "source": [
    "env.log"
   ]
  },
  {
   "cell_type": "code",
   "execution_count": 7,
   "metadata": {},
   "outputs": [
    {
     "data": {
      "text/plain": [
       "[<matplotlib.lines.Line2D at 0x7ffae0309320>]"
      ]
     },
     "execution_count": 7,
     "metadata": {},
     "output_type": "execute_result"
    },
    {
     "data": {
      "image/png": "[encoded data removed]",
      "text/plain": [
       "<Figure size 432x288 with 1 Axes>"
      ]
     },
     "metadata": {
      "needs_background": "light"
     },
     "output_type": "display_data"
    }
   ],
   "source": [
    "import numpy as np\n",
    "import matplotlib.pyplot as plt\n",
    "\n",
    "plt.plot(np.array(log_total))"
   ]
  },
  {
   "cell_type": "code",
   "execution_count": 5,
   "metadata": {},
   "outputs": [
    {
     "data": {
      "text/plain": [
       "((0, 1, 2, 3), 'env_fx_10080_4')"
      ]
     },
     "execution_count": 5,
     "metadata": {},
     "output_type": "execute_result"
    }
   ],
   "source": [
    "env.enable_actions, env.name"
   ]
  },
  {
   "cell_type": "code",
   "execution_count": 7,
   "metadata": {},
   "outputs": [],
   "source": [
    "agent = LSTMDQNAgent(env.enable_actions, env.name)\n",
    "agent.name"
   ]
  },
  {
   "cell_type": "code",
   "execution_count": 9,
   "metadata": {},
   "outputs": [],
   "source": [
    "agent.load_model('/mnt/Omer/Project/10.AdaptivePacing/dst/agent_lstmdqn/env_fx_10080_4/env_fx_10080_4.ckpt')"
   ]
  },
  {
   "cell_type": "code",
   "execution_count": 14,
   "metadata": {},
   "outputs": [],
   "source": [
    "env.reset()\n",
    "\n",
    "state_t_1, _, _ = env.observe()\n",
    "state_t = state_t_1\n",
    "\n",
    "terminal = False\n",
    "total = 0.\n",
    "log_total = []\n",
    "while not terminal:\n",
    "    action_t = agent.select_action(state_t, 0.0)\n",
    "    env.execute_action(action_t)\n",
    "\n",
    "    state_t_1, reward_t, terminal = env.observe()\n",
    "    state_t = state_t_1\n",
    "    total += reward_t\n",
    "    log_total.append(total)"
   ]
  },
  {
   "cell_type": "code",
   "execution_count": 15,
   "metadata": {},
   "outputs": [
    {
     "data": {
      "text/plain": [
       "[(118.19, 125.17, 'long', 6.980000000000004, 55),\n",
       " (125.17, 121.25, 'short', 3.9200000000000017, 59),\n",
       " (121.25, 119.3, 'long', -1.9500000000000028, 63),\n",
       " (119.3, 119.04, 'short', 0.2599999999999909, 67),\n",
       " (119.04, 117.52, 'long', -1.5200000000000102, 71),\n",
       " (117.52, 119.91, 'short', -2.3900000000000006, 75),\n",
       " (119.91, 110.51, 'long', -9.399999999999991, 79),\n",
       " (110.51, 108.85, 'short', 1.6600000000000108, 83),\n",
       " (108.85, 106.01, 'long', -2.839999999999989, 87),\n",
       " (106.01, 108.54, 'short', -2.530000000000001, 91),\n",
       " (108.54, 105.52, 'long', -3.0200000000000102, 95),\n",
       " (105.52, 114.26, 'short', -8.740000000000009, 99),\n",
       " (114.26, 107.77, 'long', -6.490000000000009, 103),\n",
       " (107.77, 110.65, 'short', -2.8800000000000097, 107),\n",
       " (110.65, 110.06, 'long', -0.5900000000000034, 111),\n",
       " (110.06, 107.68, 'short', 2.3799999999999955, 115),\n",
       " (107.68, 102.82, 'long', -4.860000000000014, 119),\n",
       " (102.82, 103.43, 'short', -0.6100000000000136, 123),\n",
       " (103.43, 105.5, 'long', 2.069999999999993, 127),\n",
       " (105.5, 107.43, 'short', -1.9300000000000068, 131),\n",
       " (107.43, 105.84, 'long', -1.5900000000000034, 135),\n",
       " (105.84, 109.3, 'short', -3.4599999999999937, 139),\n",
       " (109.3, 112.31, 'long', 3.010000000000005, 143),\n",
       " (112.31, 110.01, 'short', 2.299999999999997, 147),\n",
       " (110.01, 115.74, 'long', 5.72999999999999, 151),\n",
       " (115.74, 119.8, 'short', -4.060000000000002, 155),\n",
       " (119.8, 116.3, 'long', -3.5, 159),\n",
       " (116.3, 117.35, 'short', -1.0499999999999972, 163),\n",
       " (117.35, 116.81, 'long', -0.539999999999992, 167),\n",
       " (116.81, 113.44, 'short', 3.3700000000000045, 171),\n",
       " (113.44, 114.89, 'long', 1.4500000000000028, 175),\n",
       " (114.89, 116.82, 'short', -1.9299999999999926, 179),\n",
       " (116.82, 117.22, 'long', 0.4000000000000057, 183),\n",
       " (117.22, 119.51, 'short', -2.2900000000000063, 187),\n",
       " (119.51, 118.09, 'long', -1.4200000000000017, 191),\n",
       " (118.09, 118.73, 'short', -0.6400000000000006, 195),\n",
       " (118.73, 121.94, 'long', 3.2099999999999937, 199),\n",
       " (121.94, 117.67, 'short', 4.269999999999996, 203),\n",
       " (117.67, 119.85, 'long', 2.1799999999999926, 207),\n",
       " (119.85, 121.75, 'short', -1.9000000000000057, 211),\n",
       " (121.75, 122.08, 'long', 0.3299999999999983, 215),\n",
       " (122.08, 114.86, 'short', 7.219999999999999, 219),\n",
       " (114.86, 117.32, 'long', 2.4599999999999937, 223),\n",
       " (117.32, 110.15, 'short', 7.1699999999999875, 227),\n",
       " (110.15, 113.64, 'long', 3.489999999999995, 231),\n",
       " (113.64, 107.51, 'short', 6.1299999999999955, 235),\n",
       " (107.51, 99.12, 'long', -8.39, 239),\n",
       " (99.12, 104.19, 'short', -5.069999999999993, 243),\n",
       " (104.19, 105.38, 'long', 1.1899999999999977, 247),\n",
       " (105.38, 104.92, 'short', 0.45999999999999375, 251),\n",
       " (104.92, 109.7, 'long', 4.780000000000001, 255),\n",
       " (109.7, 103.2, 'short', 6.5, 259),\n",
       " (103.2, 96.06, 'long', -7.140000000000001, 263),\n",
       " (96.06, 90.38, 'short', 5.680000000000007, 267),\n",
       " (90.38, 89.36, 'long', -1.019999999999996, 271),\n",
       " (89.36, 98.65, 'short', -9.290000000000006, 275),\n",
       " (98.65, 97.05, 'long', -1.6000000000000085, 279),\n",
       " (97.05, 96.26, 'short', 0.789999999999992, 283),\n",
       " (96.26, 93.25, 'long', -3.010000000000005, 287),\n",
       " (93.25, 94.82, 'short', -1.5699999999999932, 291),\n",
       " (94.82, 89.71, 'long', -5.109999999999999, 295),\n",
       " (89.71, 89.41, 'short', 0.29999999999999716, 299),\n",
       " (89.41, 90.95, 'long', 1.5400000000000063, 303),\n",
       " (90.95, 90.59, 'short', 0.35999999999999943, 307),\n",
       " (90.59, 90.68, 'long', 0.09000000000000341, 311),\n",
       " (90.68, 93.19, 'short', -2.509999999999991, 315),\n",
       " (93.19, 91.0, 'long', -2.1899999999999977, 319),\n",
       " (91.0, 88.87, 'short', 2.1299999999999955, 323),\n",
       " (88.87, 85.29, 'long', -3.5799999999999983, 327),\n",
       " (85.29, 83.62, 'short', 1.6700000000000017, 331),\n",
       " (83.62, 80.79, 'long', -2.8299999999999983, 335),\n",
       " (80.79, 84.12, 'short', -3.3299999999999983, 339),\n",
       " (84.12, 82.87, 'long', -1.25, 343),\n",
       " (82.87, 82.79, 'short', 0.0799999999999983, 347),\n",
       " (82.79, 82.55, 'long', -0.2400000000000091, 351),\n",
       " (82.55, 80.96, 'short', 1.5900000000000034, 355),\n",
       " (80.96, 80.8, 'long', -0.1599999999999966, 359),\n",
       " (80.8, 76.81, 'short', 3.989999999999995, 363),\n",
       " (76.81, 76.31, 'long', -0.5, 367),\n",
       " (76.31, 78.0, 'short', -1.6899999999999977, 371),\n",
       " (78.0, 77.96, 'long', -0.04000000000000625, 375),\n",
       " (77.96, 77.77, 'short', 0.18999999999999773, 379),\n",
       " (77.77, 81.68, 'long', 3.910000000000011, 383),\n",
       " (81.68, 80.87, 'short', 0.8100000000000023, 387),\n",
       " (80.87, 79.94, 'long', -0.9300000000000068, 391),\n",
       " (79.94, 79.77, 'short', 0.1700000000000017, 395),\n",
       " (79.77, 78.57, 'long', -1.2000000000000028, 399),\n",
       " (78.57, 78.9, 'short', -0.3300000000000125, 403),\n",
       " (78.9, 79.86, 'long', 0.9599999999999937, 407),\n",
       " (79.86, 82.36, 'short', -2.5, 411),\n",
       " (82.36, 89.96, 'long', 7.599999999999994, 415),\n",
       " (89.96, 91.81, 'short', -1.8500000000000085, 419),\n",
       " (91.81, 99.26, 'long', 7.450000000000003, 423),\n",
       " (99.26, 102.83, 'short', -3.569999999999993, 427),\n",
       " (102.83, 97.79, 'long', -5.039999999999992, 431),\n",
       " (97.79, 97.23, 'short', 0.5600000000000023, 435),\n",
       " (97.23, 99.01, 'long', 1.7800000000000011, 439),\n",
       " (99.01, 97.28, 'short', 1.730000000000004, 443),\n",
       " (97.28, 102.55, 'long', 5.269999999999996, 447),\n",
       " (102.55, 104.32, 'short', -1.769999999999996, 451),\n",
       " (104.32, 102.35, 'long', -1.9699999999999989, 455),\n",
       " (102.35, 102.61, 'short', -0.2600000000000051, 459),\n",
       " (102.61, 101.5, 'long', -1.1099999999999994, 463),\n",
       " (101.5, 101.73, 'short', -0.23000000000000398, 467),\n",
       " (101.73, 102.52, 'long', 0.789999999999992, 471),\n",
       " (102.52, 107.22, 'short', -4.700000000000003, 475),\n",
       " (107.22, 113.63, 'long', 6.409999999999997, 479),\n",
       " (113.63, 118.95, 'short', -5.320000000000007, 483),\n",
       " (118.95, 118.03, 'long', -0.9200000000000017, 487),\n",
       " (118.03, 121.63, 'short', -3.5999999999999943, 491),\n",
       " (121.63, 119.05, 'long', -2.5799999999999983, 495),\n",
       " (119.05, 123.65, 'short', -4.6000000000000085, 499),\n",
       " (123.65, 122.45, 'long', -1.2000000000000028, 503),\n",
       " (122.45, 124.37, 'short', -1.9200000000000017, 507),\n",
       " (124.37, 119.58, 'long', -4.790000000000006, 511),\n",
       " (119.58, 121.04, 'short', -1.460000000000008, 515),\n",
       " (121.04, 120.87, 'long', -0.1700000000000017, 519),\n",
       " (120.87, 118.1, 'short', 2.7700000000000102, 523),\n",
       " (118.1, 113.99, 'long', -4.109999999999999, 527),\n",
       " (113.99, 109.45, 'short', 4.539999999999992, 531),\n",
       " (109.45, 109.71, 'long', 0.2599999999999909, 535),\n",
       " (109.71, 102.58, 'short', 7.1299999999999955, 539),\n",
       " (102.58, 101.42, 'long', -1.1599999999999966, 543),\n",
       " (101.42, 101.68, 'short', -0.2600000000000051, 547),\n",
       " (101.68, 105.19, 'long', 3.509999999999991, 551),\n",
       " (105.19, 114.38, 'short', -9.189999999999998, 555),\n",
       " (114.38, 114.65, 'long', 0.27000000000001023, 559),\n",
       " (114.65, 113.34, 'short', 1.3100000000000023, 563),\n",
       " (113.34, 111.24, 'long', -2.1000000000000085, 567),\n",
       " (111.24, 111.36, 'short', -0.12000000000000455, 571),\n",
       " (111.36, 112.15, 'long', 0.7900000000000063, 575),\n",
       " (112.15, 110.76, 'short', 1.3900000000000006, 579),\n",
       " (110.76, 111.24, 'long', 0.47999999999998977, 583),\n",
       " (111.24, 113.69, 'short', -2.450000000000003, 587),\n",
       " (113.69, 112.58, 'long', -1.1099999999999994, 591),\n",
       " (112.58, 111.11, 'short', 1.4699999999999989, 595),\n",
       " (111.11, 106.99, 'long', -4.1200000000000045, 599),\n",
       " (106.99, 106.91, 'short', 0.0799999999999983, 603),\n",
       " (106.91, 110.88, 'long', 3.969999999999999, 607),\n",
       " (110.88, 110.22, 'short', 0.6599999999999966, 611),\n",
       " (110.22, 111.2, 'long', 0.980000000000004, 615),\n",
       " (111.2, 111.96, 'short', -0.7599999999999909, 619),\n",
       " (111.96, 112.26, 'long', 0.30000000000001137, 623),\n",
       " (112.26, 112.75, 'short', -0.4899999999999949, 627),\n",
       " (112.75, 108.24, 'long', -4.510000000000005, 631),\n",
       " (108.24, 110.74, 'short', -2.5, 635)]"
      ]
     },
     "execution_count": 15,
     "metadata": {},
     "output_type": "execute_result"
    }
   ],
   "source": [
    "env.log"
   ]
  },
  {
   "cell_type": "code",
   "execution_count": 16,
   "metadata": {},
   "outputs": [
    {
     "data": {
      "text/plain": [
       "[<matplotlib.lines.Line2D at 0x7fa26d2e3f98>]"
      ]
     },
     "execution_count": 16,
     "metadata": {},
     "output_type": "execute_result"
    },
    {
     "data": {
      "image/png": "[encoded data removed]",
      "text/plain": [
       "<Figure size 432x288 with 1 Axes>"
      ]
     },
     "metadata": {
      "needs_background": "light"
     },
     "output_type": "display_data"
    }
   ],
   "source": [
    "import numpy as np\n",
    "import matplotlib.pyplot as plt\n",
    "\n",
    "plt.plot(np.array(log_total))"
   ]
  },
  {
   "cell_type": "code",
   "execution_count": null,
   "metadata": {},
   "outputs": [],
   "source": []
  }
 ],
 "metadata": {
  "kernelspec": {
   "display_name": "Python 3",
   "language": "python",
   "name": "python3"
  },
  "language_info": {
   "codemirror_mode": {
    "name": "ipython",
    "version": 3
   },
   "file_extension": ".py",
   "mimetype": "text/x-python",
   "name": "python",
   "nbconvert_exporter": "python",
   "pygments_lexer": "ipython3",
   "version": "3.5.2"
  }
 },
 "nbformat": 4,
 "nbformat_minor": 2
}
