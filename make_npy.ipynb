{
 "cells": [
  {
   "cell_type": "code",
   "execution_count": 34,
   "metadata": {},
   "outputs": [],
   "source": [
    "import numpy as np\n",
    "from const import pairs, srcdir, dstdir\n",
    "\n",
    "import pandas as pd\n",
    "import os, sys\n"
   ]
  },
  {
   "cell_type": "code",
   "execution_count": 28,
   "metadata": {},
   "outputs": [
    {
     "data": {
      "text/plain": [
       "'/mnt/Omer/Project/10.AdaptivePacing/dst/npy'"
      ]
     },
     "execution_count": 28,
     "metadata": {},
     "output_type": "execute_result"
    }
   ],
   "source": [
    "outdir = os.path.join(dstdir, 'npy')\n",
    "if not os.path.exists(outdir): os.makedirs(outdir)\n",
    "outdir"
   ]
  },
  {
   "cell_type": "code",
   "execution_count": 33,
   "metadata": {},
   "outputs": [
    {
     "name": "stdout",
     "output_type": "stream",
     "text": [
      "AUDJPY\n",
      "AUDUSD\n",
      "CHFJPY\n",
      "EURCAD\n",
      "EURCHF\n",
      "EURGBP\n",
      "EURJPY\n",
      "EURUSD\n",
      "GBPCHF\n",
      "GBPJPY\n",
      "GBPUSD\n",
      "NZDJPY\n",
      "NZDUSD\n",
      "USDCAD\n",
      "USDJPY\n",
      "USDCHF\n",
      "XAGUSD\n",
      "XAUUSD\n"
     ]
    }
   ],
   "source": [
    "for pair in pairs:\n",
    "    print(pair)\n",
    "    df = pd.read_csv( srcdir+'/USDJPY.txt' )\n",
    "    price = np.array(df['<OPEN>'].values)\n",
    "    np.save(os.path.join(outdir, pair), price)"
   ]
  }
 ],
 "metadata": {
  "kernelspec": {
   "display_name": "Python 3",
   "language": "python",
   "name": "python3"
  },
  "language_info": {
   "codemirror_mode": {
    "name": "ipython",
    "version": 3
   },
   "file_extension": ".py",
   "mimetype": "text/x-python",
   "name": "python",
   "nbconvert_exporter": "python",
   "pygments_lexer": "ipython3",
   "version": "3.5.2"
  }
 },
 "nbformat": 4,
 "nbformat_minor": 2
}
