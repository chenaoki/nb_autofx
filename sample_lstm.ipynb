{
 "cells": [
  {
   "cell_type": "code",
   "execution_count": 1,
   "metadata": {},
   "outputs": [],
   "source": [
    "from keras.models import Sequential\n",
    "from keras.layers.core import Dense, Activation\n",
    "from keras.layers.recurrent import LSTM\n",
    "from keras.optimizers import Adam\n",
    "from keras.callbacks import EarlyStopping\n",
    "\n",
    "import numpy as np\n",
    "import matplotlib.pyplot as plt"
   ]
  },
  {
   "cell_type": "code",
   "execution_count": 45,
   "metadata": {},
   "outputs": [],
   "source": [
    "def generator(T=100, ampl=0.05):\n",
    "    np.random.seed(0)\n",
    "    x = np.arange(0, 2 * T + 1)\n",
    "    sig = np.sin(2.0*np.pi*x / T)\n",
    "    noise = ampl * np.random.uniform(low=-1.0, high=1.0, size=len(x))\n",
    "    return sig+noise"
   ]
  },
  {
   "cell_type": "code",
   "execution_count": 46,
   "metadata": {},
   "outputs": [
    {
     "data": {
      "text/plain": [
       "[<matplotlib.lines.Line2D at 0x7ff55c7ddcf8>]"
      ]
     },
     "execution_count": 46,
     "metadata": {},
     "output_type": "execute_result"
    },
    {
     "data": {
      "image/png": "[encoded data removed]",
      "text/plain": [
       "<Figure size 432x288 with 1 Axes>"
      ]
     },
     "metadata": {
      "needs_background": "light"
     },
     "output_type": "display_data"
    }
   ],
   "source": [
    "f = generator()\n",
    "plt.plot(f)"
   ]
  },
  {
   "cell_type": "code",
   "execution_count": 47,
   "metadata": {},
   "outputs": [],
   "source": [
    "def make_dataset(low_data, n_prev = 100):\n",
    "    \n",
    "    data, target = [],[]\n",
    "    maxlen = 25\n",
    "    \n",
    "    for i in range(len(low_data)-maxlen):\n",
    "        data.append(low_data[i:i+maxlen])\n",
    "        target.append(low_data[i+maxlen])\n",
    "        \n",
    "    re_data = np.array(data).reshape(len(data), maxlen, 1)\n",
    "    re_target = np.array(target).reshape(len(data), 1)\n",
    "    \n",
    "    return re_data, re_target\n",
    "        "
   ]
  },
  {
   "cell_type": "code",
   "execution_count": 48,
   "metadata": {},
   "outputs": [],
   "source": [
    "g, h = make_dataset(f)"
   ]
  },
  {
   "cell_type": "code",
   "execution_count": 49,
   "metadata": {},
   "outputs": [
    {
     "data": {
      "text/plain": [
       "((176, 25, 1), (176, 1))"
      ]
     },
     "execution_count": 49,
     "metadata": {},
     "output_type": "execute_result"
    }
   ],
   "source": [
    "g.shape, h.shape"
   ]
  },
  {
   "cell_type": "code",
   "execution_count": 50,
   "metadata": {},
   "outputs": [],
   "source": [
    "length_of_sequence = g.shape[1] \n",
    "in_out_neurons = 1\n",
    "n_hidden = 300"
   ]
  },
  {
   "cell_type": "code",
   "execution_count": 51,
   "metadata": {},
   "outputs": [],
   "source": [
    "model = Sequential()\n",
    "model.add(LSTM(n_hidden, batch_input_shape=(None, length_of_sequence, in_out_neurons), return_sequences=False))\n",
    "model.add(Dense(in_out_neurons))\n",
    "model.add(Activation(\"linear\"))\n",
    "optimizer = Adam(lr=0.001)\n",
    "model.compile(loss=\"mean_squared_error\", optimizer=optimizer)"
   ]
  },
  {
   "cell_type": "code",
   "execution_count": 52,
   "metadata": {},
   "outputs": [
    {
     "name": "stdout",
     "output_type": "stream",
     "text": [
      "Train on 158 samples, validate on 18 samples\n",
      "Epoch 1/100\n",
      "158/158 [==============================] - 1s 7ms/step - loss: 0.5498 - val_loss: 0.1642\n",
      "Epoch 2/100\n",
      "158/158 [==============================] - 0s 255us/step - loss: 0.3793 - val_loss: 0.0629\n",
      "Epoch 3/100\n",
      "158/158 [==============================] - 0s 219us/step - loss: 0.2429 - val_loss: 0.0292\n",
      "Epoch 4/100\n",
      "158/158 [==============================] - 0s 239us/step - loss: 0.1415 - val_loss: 0.1287\n",
      "Epoch 5/100\n",
      "158/158 [==============================] - 0s 222us/step - loss: 0.1052 - val_loss: 0.2390\n",
      "Epoch 6/100\n",
      "158/158 [==============================] - 0s 217us/step - loss: 0.1148 - val_loss: 0.1720\n",
      "Epoch 7/100\n",
      "158/158 [==============================] - 0s 217us/step - loss: 0.0812 - val_loss: 0.0838\n",
      "Epoch 8/100\n",
      "158/158 [==============================] - 0s 226us/step - loss: 0.0488 - val_loss: 0.0359\n",
      "Epoch 9/100\n",
      "158/158 [==============================] - 0s 220us/step - loss: 0.0387 - val_loss: 0.0175\n",
      "Epoch 10/100\n",
      "158/158 [==============================] - 0s 229us/step - loss: 0.0396 - val_loss: 0.0119\n",
      "Epoch 11/100\n",
      "158/158 [==============================] - 0s 222us/step - loss: 0.0415 - val_loss: 0.0103\n",
      "Epoch 12/100\n",
      "158/158 [==============================] - 0s 227us/step - loss: 0.0401 - val_loss: 0.0094\n",
      "Epoch 13/100\n",
      "158/158 [==============================] - 0s 222us/step - loss: 0.0351 - val_loss: 0.0084\n",
      "Epoch 14/100\n",
      "158/158 [==============================] - 0s 217us/step - loss: 0.0278 - val_loss: 0.0082\n",
      "Epoch 15/100\n",
      "158/158 [==============================] - 0s 237us/step - loss: 0.0203 - val_loss: 0.0103\n",
      "Epoch 16/100\n",
      "158/158 [==============================] - 0s 230us/step - loss: 0.0151 - val_loss: 0.0161\n",
      "Epoch 17/100\n",
      "158/158 [==============================] - 0s 209us/step - loss: 0.0136 - val_loss: 0.0245\n",
      "Epoch 18/100\n",
      "158/158 [==============================] - 0s 205us/step - loss: 0.0141 - val_loss: 0.0311\n",
      "Epoch 19/100\n",
      "158/158 [==============================] - 0s 207us/step - loss: 0.0130 - val_loss: 0.0320\n",
      "Epoch 20/100\n",
      "158/158 [==============================] - 0s 232us/step - loss: 0.0098 - val_loss: 0.0272\n",
      "Epoch 21/100\n",
      "158/158 [==============================] - 0s 219us/step - loss: 0.0070 - val_loss: 0.0192\n",
      "Epoch 22/100\n",
      "158/158 [==============================] - 0s 232us/step - loss: 0.0062 - val_loss: 0.0117\n",
      "Epoch 23/100\n",
      "158/158 [==============================] - 0s 217us/step - loss: 0.0068 - val_loss: 0.0065\n",
      "Epoch 24/100\n",
      "158/158 [==============================] - 0s 213us/step - loss: 0.0074 - val_loss: 0.0035\n",
      "Epoch 25/100\n",
      "158/158 [==============================] - 0s 221us/step - loss: 0.0070 - val_loss: 0.0019\n",
      "Epoch 26/100\n",
      "158/158 [==============================] - 0s 251us/step - loss: 0.0051 - val_loss: 0.0011\n",
      "Epoch 27/100\n",
      "158/158 [==============================] - 0s 211us/step - loss: 0.0026 - val_loss: 8.0413e-04\n",
      "Epoch 28/100\n",
      "158/158 [==============================] - 0s 238us/step - loss: 0.0012 - val_loss: 0.0011\n",
      "Epoch 29/100\n",
      "158/158 [==============================] - 0s 230us/step - loss: 0.0022 - val_loss: 0.0019\n",
      "Epoch 30/100\n",
      "158/158 [==============================] - 0s 223us/step - loss: 0.0041 - val_loss: 0.0035\n",
      "Epoch 31/100\n",
      "158/158 [==============================] - 0s 225us/step - loss: 0.0045 - val_loss: 0.0059\n",
      "Epoch 32/100\n",
      "158/158 [==============================] - 0s 217us/step - loss: 0.0035 - val_loss: 0.0075\n",
      "Epoch 33/100\n",
      "158/158 [==============================] - 0s 223us/step - loss: 0.0030 - val_loss: 0.0072\n",
      "Epoch 34/100\n",
      "158/158 [==============================] - 0s 227us/step - loss: 0.0031 - val_loss: 0.0051\n",
      "Epoch 35/100\n",
      "158/158 [==============================] - 0s 224us/step - loss: 0.0027 - val_loss: 0.0025\n",
      "Epoch 36/100\n",
      "158/158 [==============================] - 0s 230us/step - loss: 0.0019 - val_loss: 8.7791e-04\n",
      "Epoch 37/100\n",
      "158/158 [==============================] - 0s 229us/step - loss: 0.0015 - val_loss: 0.0012\n",
      "Epoch 38/100\n",
      "158/158 [==============================] - 0s 225us/step - loss: 0.0018 - val_loss: 0.0026\n",
      "Epoch 39/100\n",
      "158/158 [==============================] - 0s 226us/step - loss: 0.0022 - val_loss: 0.0038\n",
      "Epoch 40/100\n",
      "158/158 [==============================] - 0s 225us/step - loss: 0.0023 - val_loss: 0.0040\n",
      "Epoch 41/100\n",
      "158/158 [==============================] - 0s 222us/step - loss: 0.0022 - val_loss: 0.0034\n",
      "Epoch 42/100\n",
      "158/158 [==============================] - 0s 229us/step - loss: 0.0022 - val_loss: 0.0025\n",
      "Epoch 43/100\n",
      "158/158 [==============================] - 0s 245us/step - loss: 0.0021 - val_loss: 0.0017\n",
      "Epoch 44/100\n",
      "158/158 [==============================] - 0s 206us/step - loss: 0.0019 - val_loss: 0.0011\n",
      "Epoch 45/100\n",
      "158/158 [==============================] - 0s 234us/step - loss: 0.0015 - val_loss: 8.4301e-04\n",
      "Epoch 46/100\n",
      "158/158 [==============================] - 0s 224us/step - loss: 0.0014 - val_loss: 8.0393e-04\n",
      "Epoch 47/100\n",
      "158/158 [==============================] - 0s 219us/step - loss: 0.0016 - val_loss: 9.2672e-04\n",
      "Epoch 48/100\n",
      "158/158 [==============================] - 0s 221us/step - loss: 0.0016 - val_loss: 0.0011\n",
      "Epoch 49/100\n",
      "158/158 [==============================] - 0s 239us/step - loss: 0.0015 - val_loss: 0.0012\n",
      "Epoch 50/100\n",
      "158/158 [==============================] - 0s 224us/step - loss: 0.0013 - val_loss: 0.0012\n",
      "Epoch 51/100\n",
      "158/158 [==============================] - 0s 223us/step - loss: 0.0013 - val_loss: 0.0012\n",
      "Epoch 52/100\n",
      "158/158 [==============================] - 0s 243us/step - loss: 0.0014 - val_loss: 0.0011\n",
      "Epoch 53/100\n",
      "158/158 [==============================] - 0s 228us/step - loss: 0.0014 - val_loss: 0.0010\n",
      "Epoch 54/100\n",
      "158/158 [==============================] - 0s 211us/step - loss: 0.0013 - val_loss: 9.3844e-04\n",
      "Epoch 55/100\n",
      "158/158 [==============================] - 0s 220us/step - loss: 0.0012 - val_loss: 9.1979e-04\n",
      "Epoch 56/100\n",
      "158/158 [==============================] - 0s 229us/step - loss: 0.0013 - val_loss: 9.0830e-04\n",
      "Epoch 57/100\n",
      "158/158 [==============================] - 0s 218us/step - loss: 0.0013 - val_loss: 8.7837e-04\n",
      "Epoch 58/100\n",
      "158/158 [==============================] - 0s 237us/step - loss: 0.0013 - val_loss: 8.4162e-04\n",
      "Epoch 59/100\n",
      "158/158 [==============================] - 0s 234us/step - loss: 0.0013 - val_loss: 8.1674e-04\n",
      "Epoch 60/100\n",
      "158/158 [==============================] - 0s 218us/step - loss: 0.0012 - val_loss: 8.0362e-04\n",
      "Epoch 61/100\n",
      "158/158 [==============================] - 0s 224us/step - loss: 0.0012 - val_loss: 7.9265e-04\n",
      "Epoch 62/100\n",
      "158/158 [==============================] - 0s 218us/step - loss: 0.0011 - val_loss: 7.8129e-04\n",
      "Epoch 63/100\n",
      "158/158 [==============================] - 0s 253us/step - loss: 0.0011 - val_loss: 7.7371e-04\n",
      "Epoch 64/100\n",
      "158/158 [==============================] - 0s 231us/step - loss: 0.0012 - val_loss: 7.7130e-04\n",
      "Epoch 65/100\n",
      "158/158 [==============================] - 0s 231us/step - loss: 0.0012 - val_loss: 7.7156e-04\n",
      "Epoch 66/100\n",
      "158/158 [==============================] - 0s 225us/step - loss: 0.0012 - val_loss: 7.7458e-04\n",
      "Epoch 67/100\n",
      "158/158 [==============================] - 0s 214us/step - loss: 0.0011 - val_loss: 7.8229e-04\n",
      "Epoch 68/100\n",
      "158/158 [==============================] - 0s 220us/step - loss: 0.0011 - val_loss: 7.9042e-04\n",
      "Epoch 69/100\n",
      "158/158 [==============================] - 0s 220us/step - loss: 0.0011 - val_loss: 7.8973e-04\n",
      "Epoch 70/100\n",
      "158/158 [==============================] - 0s 219us/step - loss: 0.0011 - val_loss: 7.7942e-04\n",
      "Epoch 71/100\n",
      "158/158 [==============================] - 0s 215us/step - loss: 0.0011 - val_loss: 7.7204e-04\n",
      "Epoch 72/100\n",
      "158/158 [==============================] - 0s 219us/step - loss: 0.0011 - val_loss: 7.7907e-04\n",
      "Epoch 73/100\n",
      "158/158 [==============================] - 0s 233us/step - loss: 0.0011 - val_loss: 7.9502e-04\n",
      "Epoch 74/100\n",
      "158/158 [==============================] - 0s 223us/step - loss: 0.0011 - val_loss: 8.0296e-04\n",
      "Epoch 75/100\n",
      "158/158 [==============================] - 0s 208us/step - loss: 0.0011 - val_loss: 7.9521e-04\n",
      "Epoch 76/100\n",
      "158/158 [==============================] - 0s 218us/step - loss: 0.0011 - val_loss: 7.8257e-04\n",
      "Epoch 77/100\n",
      "158/158 [==============================] - 0s 218us/step - loss: 0.0011 - val_loss: 7.8166e-04\n",
      "Epoch 78/100\n",
      "158/158 [==============================] - 0s 212us/step - loss: 0.0011 - val_loss: 7.9744e-04\n",
      "Epoch 79/100\n",
      "158/158 [==============================] - 0s 215us/step - loss: 0.0011 - val_loss: 8.2078e-04\n",
      "Epoch 80/100\n",
      "158/158 [==============================] - 0s 221us/step - loss: 0.0011 - val_loss: 8.3957e-04\n",
      "Epoch 81/100\n",
      "158/158 [==============================] - 0s 242us/step - loss: 0.0011 - val_loss: 8.4884e-04\n",
      "Epoch 82/100\n",
      "158/158 [==============================] - 0s 215us/step - loss: 0.0011 - val_loss: 8.5047e-04\n",
      "Epoch 83/100\n",
      "158/158 [==============================] - 0s 248us/step - loss: 0.0011 - val_loss: 8.4773e-04\n",
      "Epoch 84/100\n",
      "158/158 [==============================] - 0s 215us/step - loss: 0.0011 - val_loss: 8.4243e-04\n"
     ]
    },
    {
     "data": {
      "text/plain": [
       "<keras.callbacks.History at 0x7ff5b0050898>"
      ]
     },
     "execution_count": 52,
     "metadata": {},
     "output_type": "execute_result"
    }
   ],
   "source": [
    "early_stopping = EarlyStopping(monitor='val_loss', mode='auto', patience=20)\n",
    "model.fit(g, h,\n",
    "          batch_size=300,\n",
    "          epochs=100,\n",
    "          validation_split=0.1,\n",
    "          callbacks=[early_stopping]\n",
    "          )"
   ]
  },
  {
   "cell_type": "code",
   "execution_count": 53,
   "metadata": {},
   "outputs": [],
   "source": [
    "predicted = model.predict(g)"
   ]
  },
  {
   "cell_type": "code",
   "execution_count": 54,
   "metadata": {},
   "outputs": [
    {
     "data": {
      "image/png": "[encoded data removed]",
      "text/plain": [
       "<Figure size 432x288 with 1 Axes>"
      ]
     },
     "metadata": {
      "needs_background": "light"
     },
     "output_type": "display_data"
    }
   ],
   "source": [
    "plt.figure()\n",
    "plt.plot(range(25,len(predicted)+25),predicted, color=\"r\", label=\"row_data\")\n",
    "plt.plot(range(0, len(f)), f, color=\"b\", label=\"predict_data\")\n",
    "plt.legend()\n",
    "plt.show()"
   ]
  },
  {
   "cell_type": "code",
   "execution_count": 55,
   "metadata": {},
   "outputs": [],
   "source": [
    "future_test = g[175].T"
   ]
  },
  {
   "cell_type": "code",
   "execution_count": null,
   "metadata": {},
   "outputs": [],
   "source": [
    "# 1つの学習データの時間の長さ -> 25\n",
    "time_length = future_test.shape[1]\n",
    "# 未来の予測データを保存していく変数\n",
    "future_result = np.empty((1))\n",
    "\n",
    "# 未来予想\n",
    "for step2 in range(400):\n",
    "\n",
    "    test_data = np.reshape(future_test, (1, time_length, 1))\n",
    "    batch_predict = model.predict(test_data)\n",
    "\n",
    "    future_test = np.delete(future_test, 0)\n",
    "    future_test = np.append(future_test, batch_predict)\n",
    "\n",
    "    future_result = np.append(future_result, batch_predict)\n",
    "\n",
    "\n",
    "# sin波をプロット\n",
    "plt.figure()\n",
    "plt.plot(range(25,len(predicted)+25),predicted, color=\"r\", label=\"predict_data\")\n",
    "plt.plot(range(0, len(f)), f, color=\"b\", label=\"row_data\")\n",
    "plt.plot(range(0+len(f), len(future_result)+len(f)), future_result, color=\"g\", label=\"future_predict\")\n",
    "plt.legend()\n",
    "plt.show()"
   ]
  }
 ],
 "metadata": {
  "kernelspec": {
   "display_name": "Python 3",
   "language": "python",
   "name": "python3"
  },
  "language_info": {
   "codemirror_mode": {
    "name": "ipython",
    "version": 3
   },
   "file_extension": ".py",
   "mimetype": "text/x-python",
   "name": "python",
   "nbconvert_exporter": "python",
   "pygments_lexer": "ipython3",
   "version": "3.5.2"
  }
 },
 "nbformat": 4,
 "nbformat_minor": 2
}
