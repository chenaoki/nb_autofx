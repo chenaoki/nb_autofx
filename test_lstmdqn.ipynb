{
 "cells": [
  {
   "cell_type": "code",
   "execution_count": 1,
   "metadata": {},
   "outputs": [
    {
     "name": "stderr",
     "output_type": "stream",
     "text": [
      "Using TensorFlow backend.\n"
     ]
    }
   ],
   "source": [
    "from agent_lstmdqn import LSTMDQNAgent\n",
    "from env_fx import FXEnv"
   ]
  },
  {
   "cell_type": "code",
   "execution_count": 2,
   "metadata": {},
   "outputs": [],
   "source": [
    "import numpy as np\n",
    "import matplotlib.pyplot as plt\n",
    "import copy"
   ]
  },
  {
   "cell_type": "code",
   "execution_count": 3,
   "metadata": {},
   "outputs": [],
   "source": [
    "env = FXEnv(\n",
    "    '/mnt/Omer/Project/10.AdaptivePacing/dst/npy/USDJPY.npy',\n",
    "    spread=0.,\n",
    "    min_act_interval=4,\n",
    "    load_interval=60\n",
    ")"
   ]
  },
  {
   "cell_type": "code",
   "execution_count": 4,
   "metadata": {},
   "outputs": [
    {
     "name": "stdout",
     "output_type": "stream",
     "text": [
      "WARNING:tensorflow:From /usr/local/lib/python3.5/dist-packages/tensorflow/python/framework/op_def_library.py:263: colocate_with (from tensorflow.python.framework.ops) is deprecated and will be removed in a future version.\n",
      "Instructions for updating:\n",
      "Colocations handled automatically by placer.\n"
     ]
    }
   ],
   "source": [
    "agent = LSTMDQNAgent(env.enable_actions, env.name)"
   ]
  },
  {
   "cell_type": "code",
   "execution_count": 5,
   "metadata": {},
   "outputs": [],
   "source": [
    "env.reset()"
   ]
  },
  {
   "cell_type": "code",
   "execution_count": 6,
   "metadata": {},
   "outputs": [],
   "source": [
    "agent.init_model()"
   ]
  },
  {
   "cell_type": "code",
   "execution_count": 7,
   "metadata": {},
   "outputs": [
    {
     "name": "stdout",
     "output_type": "stream",
     "text": [
      "_________________________________________________________________\n",
      "Layer (type)                 Output Shape              Param #   \n",
      "=================================================================\n",
      "lstm_2 (LSTM)                (None, 300)               362400    \n",
      "_________________________________________________________________\n",
      "dense_2 (Dense)              (None, 4)                 1204      \n",
      "_________________________________________________________________\n",
      "activation_2 (Activation)    (None, 4)                 0         \n",
      "=================================================================\n",
      "Total params: 363,604\n",
      "Trainable params: 363,604\n",
      "Non-trainable params: 0\n",
      "_________________________________________________________________\n"
     ]
    }
   ],
   "source": [
    "agent.model.summary()"
   ]
  },
  {
   "cell_type": "code",
   "execution_count": 8,
   "metadata": {},
   "outputs": [
    {
     "data": {
      "text/plain": [
       "[<matplotlib.lines.Line2D at 0x7f4263130e48>]"
      ]
     },
     "execution_count": 8,
     "metadata": {},
     "output_type": "execute_result"
    },
    {
     "data": {
      "image/png": "[encoded data removed]",
      "text/plain": [
       "<Figure size 432x288 with 1 Axes>"
      ]
     },
     "metadata": {
      "needs_background": "light"
     },
     "output_type": "display_data"
    }
   ],
   "source": [
    "env.update(0)\n",
    "plt.plot(env.screen)"
   ]
  },
  {
   "cell_type": "code",
   "execution_count": 9,
   "metadata": {},
   "outputs": [
    {
     "name": "stdout",
     "output_type": "stream",
     "text": [
      "160\n",
      "WARNING:tensorflow:From /usr/local/lib/python3.5/dist-packages/tensorflow/python/ops/math_ops.py:3066: to_int32 (from tensorflow.python.ops.math_ops) is deprecated and will be removed in a future version.\n",
      "Instructions for updating:\n",
      "Use tf.cast instead.\n",
      "Train on 27 samples, validate on 4 samples\n",
      "Epoch 1/10\n",
      "27/27 [==============================] - 1s 34ms/step - loss: 0.0242 - val_loss: 0.1114\n",
      "\n",
      "Epoch 00001: val_loss improved from inf to 0.11143, saving model to /mnt/Omer/Project/10.AdaptivePacing/dst/dqn_agent/models/cp_.01-0.11.hdf5\n",
      "Epoch 2/10\n",
      "27/27 [==============================] - 0s 9ms/step - loss: 0.1058 - val_loss: 0.0458\n",
      "\n",
      "Epoch 00002: val_loss improved from 0.11143 to 0.04584, saving model to /mnt/Omer/Project/10.AdaptivePacing/dst/dqn_agent/models/cp_.02-0.05.hdf5\n",
      "Epoch 3/10\n",
      "27/27 [==============================] - 0s 10ms/step - loss: 0.0506 - val_loss: 0.0063\n",
      "\n",
      "Epoch 00003: val_loss improved from 0.04584 to 0.00632, saving model to /mnt/Omer/Project/10.AdaptivePacing/dst/dqn_agent/models/cp_.03-0.01.hdf5\n",
      "Epoch 4/10\n",
      "27/27 [==============================] - 0s 11ms/step - loss: 0.0238 - val_loss: 0.0041\n",
      "\n",
      "Epoch 00004: val_loss improved from 0.00632 to 0.00411, saving model to /mnt/Omer/Project/10.AdaptivePacing/dst/dqn_agent/models/cp_.04-0.00.hdf5\n",
      "Epoch 5/10\n",
      "27/27 [==============================] - 0s 12ms/step - loss: 0.0321 - val_loss: 0.0129\n",
      "\n",
      "Epoch 00005: val_loss did not improve from 0.00411\n",
      "Epoch 6/10\n",
      "27/27 [==============================] - 0s 11ms/step - loss: 0.0462 - val_loss: 0.0153\n",
      "\n",
      "Epoch 00006: val_loss did not improve from 0.00411\n",
      "Epoch 7/10\n",
      "27/27 [==============================] - 0s 10ms/step - loss: 0.0493 - val_loss: 0.0110\n",
      "\n",
      "Epoch 00007: val_loss did not improve from 0.00411\n",
      "Epoch 8/10\n",
      "27/27 [==============================] - 0s 12ms/step - loss: 0.0428 - val_loss: 0.0049\n",
      "\n",
      "Epoch 00008: val_loss did not improve from 0.00411\n",
      "Epoch 9/10\n",
      "27/27 [==============================] - 0s 9ms/step - loss: 0.0327 - val_loss: 0.0016\n",
      "\n",
      "Epoch 00009: val_loss improved from 0.00411 to 0.00162, saving model to /mnt/Omer/Project/10.AdaptivePacing/dst/dqn_agent/models/cp_.09-0.00.hdf5\n",
      "Epoch 10/10\n",
      "27/27 [==============================] - 0s 11ms/step - loss: 0.0250 - val_loss: 0.0035\n",
      "\n",
      "Epoch 00010: val_loss did not improve from 0.00162\n"
     ]
    }
   ],
   "source": [
    "for i in range(32):\n",
    "    state_1 = env.screen[np.newaxis, :, np.newaxis]\n",
    "    if i != 0:\n",
    "        action = agent.select_action(state, epsilon=0.2)\n",
    "        env.update(action)\n",
    "        agent.store_experience(state, action, env.reward, state_1, env.terminal)\n",
    "    state = copy.copy(state_1)    \n",
    "\n",
    "print(env.time_step, flush=True)\n",
    "\n",
    "agent.experience_replay()"
   ]
  },
  {
   "cell_type": "code",
   "execution_count": 10,
   "metadata": {},
   "outputs": [
    {
     "name": "stdout",
     "output_type": "stream",
     "text": [
      "-0.25\n"
     ]
    },
    {
     "data": {
      "text/plain": [
       "[(116.16, 116.61, 'long', 0.45000000000000284, 140),\n",
       " (116.61, 117.31, 'short', -0.7000000000000028, 152)]"
      ]
     },
     "execution_count": 10,
     "metadata": {},
     "output_type": "execute_result"
    }
   ],
   "source": [
    "print(np.sum( [x[2] for x in agent.D] ) )\n",
    "env.log"
   ]
  },
  {
   "cell_type": "code",
   "execution_count": 11,
   "metadata": {},
   "outputs": [
    {
     "data": {
      "text/plain": [
       "[0.024240052327513695,\n",
       " 0.10578526556491852,\n",
       " 0.050596289336681366,\n",
       " 0.023820245638489723,\n",
       " 0.03206557035446167,\n",
       " 0.046226292848587036,\n",
       " 0.04934278130531311,\n",
       " 0.04277103394269943,\n",
       " 0.032738860696554184,\n",
       " 0.02500329352915287]"
      ]
     },
     "execution_count": 11,
     "metadata": {},
     "output_type": "execute_result"
    }
   ],
   "source": [
    "agent.history.history['loss']"
   ]
  },
  {
   "cell_type": "code",
   "execution_count": null,
   "metadata": {},
   "outputs": [],
   "source": [
    "terminal = False\n",
    "state_t_1, reward_t, terminal = env.observe()\n",
    "\n",
    "while not terminal:\n",
    "\n",
    "    print(env.time_step)\n",
    "    state_t = state_t_1\n",
    "\n",
    "    # execute action in environment\n",
    "    action_t = agent.select_action(state_t, agent.exploration)\n",
    "    env.update(action_t)\n",
    "\n",
    "    # observe environment\n",
    "    state_t_1, reward_t, terminal = env.observe()\n",
    "\n",
    "    # store experience\n",
    "    agent.store_experience(state_t, action_t, reward_t, state_t_1, terminal)\n",
    "\n",
    "    # experience replay\n",
    "    agent.experience_replay()\n"
   ]
  },
  {
   "cell_type": "code",
   "execution_count": 15,
   "metadata": {},
   "outputs": [],
   "source": [
    "D = agent.D"
   ]
  },
  {
   "cell_type": "code",
   "execution_count": 25,
   "metadata": {},
   "outputs": [
    {
     "data": {
      "text/plain": [
       "\u001b[0;31mSignature:\u001b[0m\n",
       "\u001b[0magent\u001b[0m\u001b[0;34m.\u001b[0m\u001b[0mmodel\u001b[0m\u001b[0;34m.\u001b[0m\u001b[0mload_weights\u001b[0m\u001b[0;34m(\u001b[0m\u001b[0;34m\u001b[0m\n",
       "\u001b[0;34m\u001b[0m    \u001b[0mfilepath\u001b[0m\u001b[0;34m,\u001b[0m\u001b[0;34m\u001b[0m\n",
       "\u001b[0;34m\u001b[0m    \u001b[0mby_name\u001b[0m\u001b[0;34m=\u001b[0m\u001b[0;32mFalse\u001b[0m\u001b[0;34m,\u001b[0m\u001b[0;34m\u001b[0m\n",
       "\u001b[0;34m\u001b[0m    \u001b[0mskip_mismatch\u001b[0m\u001b[0;34m=\u001b[0m\u001b[0;32mFalse\u001b[0m\u001b[0;34m,\u001b[0m\u001b[0;34m\u001b[0m\n",
       "\u001b[0;34m\u001b[0m    \u001b[0mreshape\u001b[0m\u001b[0;34m=\u001b[0m\u001b[0;32mFalse\u001b[0m\u001b[0;34m,\u001b[0m\u001b[0;34m\u001b[0m\n",
       "\u001b[0;34m\u001b[0m\u001b[0;34m)\u001b[0m\u001b[0;34m\u001b[0m\u001b[0m\n",
       "\u001b[0;31mDocstring:\u001b[0m\n",
       "Loads all layer weights from a HDF5 save file.\n",
       "\n",
       "If `by_name` is False (default) weights are loaded\n",
       "based on the network's topology, meaning the architecture\n",
       "should be the same as when the weights were saved.\n",
       "Note that layers that don't have weights are not taken\n",
       "into account in the topological ordering, so adding or\n",
       "removing layers is fine as long as they don't have weights.\n",
       "\n",
       "If `by_name` is True, weights are loaded into layers\n",
       "only if they share the same name. This is useful\n",
       "for fine-tuning or transfer-learning models where\n",
       "some of the layers have changed.\n",
       "\n",
       "# Arguments\n",
       "    filepath: String, path to the weights file to load.\n",
       "    by_name: Boolean, whether to load weights by name\n",
       "        or by topological order.\n",
       "    skip_mismatch: Boolean, whether to skip loading of layers\n",
       "        where there is a mismatch in the number of weights,\n",
       "        or a mismatch in the shape of the weight\n",
       "        (only valid when `by_name`=True).\n",
       "    reshape: Reshape weights to fit the layer when the correct number\n",
       "        of weight arrays is present but their shape does not match.\n",
       "\n",
       "\n",
       "# Raises\n",
       "    ImportError: If h5py is not available.\n",
       "\u001b[0;31mFile:\u001b[0m      /usr/local/lib/python3.5/dist-packages/keras/engine/network.py\n",
       "\u001b[0;31mType:\u001b[0m      method\n"
      ]
     },
     "metadata": {},
     "output_type": "display_data"
    }
   ],
   "source": [
    "agent.model.load_weights?"
   ]
  },
  {
   "cell_type": "code",
   "execution_count": 24,
   "metadata": {},
   "outputs": [
    {
     "data": {
      "text/plain": [
       "1"
      ]
     },
     "execution_count": 24,
     "metadata": {},
     "output_type": "execute_result"
    }
   ],
   "source": [
    "D[1][1]"
   ]
  }
 ],
 "metadata": {
  "kernelspec": {
   "display_name": "Python 3",
   "language": "python",
   "name": "python3"
  },
  "language_info": {
   "codemirror_mode": {
    "name": "ipython",
    "version": 3
   },
   "file_extension": ".py",
   "mimetype": "text/x-python",
   "name": "python",
   "nbconvert_exporter": "python",
   "pygments_lexer": "ipython3",
   "version": "3.5.2"
  }
 },
 "nbformat": 4,
 "nbformat_minor": 2
}
